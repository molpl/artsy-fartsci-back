{
 "cells": [
  {
   "cell_type": "markdown",
   "id": "595a187e-7e11-4e2a-8f65-004d725c8088",
   "metadata": {},
   "source": [
    "# Rough API Run\n"
   ]
  },
  {
   "cell_type": "markdown",
   "id": "58051b9c-333e-481b-9d30-443bfd78df1f",
   "metadata": {},
   "source": [
    "### Imports"
   ]
  },
  {
   "cell_type": "code",
   "execution_count": null,
   "id": "371451e9-ba82-4237-8366-2641d3850fbc",
   "metadata": {},
   "outputs": [],
   "source": [
    "import tensorflow as tf\n",
    "from tensorflow.keras.models import load_model\n",
    "import matplotlib.pyplot as plt\n",
    "import math\n",
    "from PIL import Image\n",
    "from tensorflow import convert_to_tensor\n",
    "from sklearn.model_selection import train_test_split\n",
    "import numpy as np\n",
    "from tensorflow.keras.layers import Input, Dense, Conv2D, MaxPooling2D, UpSampling2D\n",
    "from tensorflow.keras.models import Model\n",
    "from sklearn.metrics.pairwise import cosine_similarity\n",
    "import os\n",
    "from PIL import ImageFile\n",
    "from PIL import ImageOps"
   ]
  },
  {
   "cell_type": "markdown",
   "id": "3a5e8bc1-bdd8-463f-b75d-75b2f6d97cbd",
   "metadata": {},
   "source": [
    "## The model"
   ]
  },
  {
   "cell_type": "code",
   "execution_count": null,
   "id": "721c04ef-df88-421d-8f88-963b0672a2a6",
   "metadata": {},
   "outputs": [],
   "source": [
    "autoencoder_model = load_model('/home/jupyter/artsy-fartsci-back/models/initial_model.h5')"
   ]
  },
  {
   "cell_type": "code",
   "execution_count": null,
   "id": "2173ee6d-4868-4314-939e-7cf9d7b074db",
   "metadata": {},
   "outputs": [],
   "source": [
    "autoencoder_model.save_weights('/home/jupyter/artsy-fartsci-back/models/initial_weights.hdf5')"
   ]
  },
  {
   "cell_type": "markdown",
   "id": "54cbbc00-f631-4b0a-b45d-59c717f1dab5",
   "metadata": {},
   "source": [
    "## User Input Image"
   ]
  },
  {
   "cell_type": "code",
   "execution_count": null,
   "id": "70e82069-0085-4914-8600-fb610e3169bc",
   "metadata": {},
   "outputs": [],
   "source": [
    "img_path = os.listdir('/home/jupyter/artsy-fartsci-back/frisbee')"
   ]
  },
  {
   "cell_type": "code",
   "execution_count": null,
   "id": "cc0a99c2-c95d-4192-b447-7f869964255d",
   "metadata": {},
   "outputs": [],
   "source": [
    "ImageFile.LOAD_TRUNCATED_IMAGES = True"
   ]
  },
  {
   "cell_type": "code",
   "execution_count": null,
   "id": "17a69ded-1212-4c1c-a64e-051954e48e78",
   "metadata": {},
   "outputs": [],
   "source": [
    "input_image_tensor = []\n",
    "\n",
    "for image_filename in img_path:\n",
    "    img = Image.open(os.path.join('/home/jupyter/artsy-fartsci-back/frisbee', image_filename))\n",
    "    img = ImageOps.exif_transpose(img)\n",
    "    img = img.resize((224,224))\n",
    "    img_arr = np.array(img)\n",
    "    img = img_arr/255\n",
    "    input_image_tensor.append(convert_to_tensor(img))"
   ]
  },
  {
   "cell_type": "code",
   "execution_count": null,
   "id": "a3b22125-d032-453d-b1b5-95b337418b43",
   "metadata": {},
   "outputs": [],
   "source": [
    "frisbee = input_image_tensor[1]"
   ]
  },
  {
   "cell_type": "markdown",
   "id": "5d6dc5b8-d7ba-46af-b4c2-4d323998bc55",
   "metadata": {},
   "source": [
    "## 500 Dataset Images "
   ]
  },
  {
   "cell_type": "code",
   "execution_count": null,
   "id": "60074db6-0f10-433e-9f1a-5c39f8d358a4",
   "metadata": {},
   "outputs": [],
   "source": [
    "import os\n",
    "img_path = os.listdir('/home/jupyter/500/images')"
   ]
  },
  {
   "cell_type": "code",
   "execution_count": null,
   "id": "f71eed60-2096-454e-af03-648c8087d063",
   "metadata": {},
   "outputs": [],
   "source": [
    "img_tensors = []\n",
    "\n",
    "for image_filename in img_path:\n",
    "    image = Image.open(os.path.join('/home/jupyter/500/images', image_filename))\n",
    "    image = image.resize((224,224))\n",
    "    img_tensors.append(convert_to_tensor(image))"
   ]
  },
  {
   "cell_type": "code",
   "execution_count": null,
   "id": "eb2ea63a-c33b-4322-857b-0acaf0ffa833",
   "metadata": {},
   "outputs": [],
   "source": [
    "X = np.array(img_tensors)\n",
    "y = np.array(img_tensors)"
   ]
  },
  {
   "cell_type": "code",
   "execution_count": null,
   "id": "9c7405a8-b397-4291-9cae-e4522954a8f2",
   "metadata": {},
   "outputs": [],
   "source": [
    "X_train, X_test, y_train, y_test = train_test_split(X,y, test_size = 0.3)"
   ]
  },
  {
   "cell_type": "markdown",
   "id": "91d9deda-f15c-4cde-bacc-30786fd2e43a",
   "metadata": {},
   "source": [
    "## Autoencoder"
   ]
  },
  {
   "cell_type": "code",
   "execution_count": null,
   "id": "3b57ca2b-6a2e-4b0b-b890-3ff71b350f0b",
   "metadata": {},
   "outputs": [],
   "source": [
    "input_img = Input(shape=(224, 224, 3))\n",
    "x = Conv2D(16, (3, 3), activation='relu', padding='same')(input_img)\n",
    "x = MaxPooling2D((2, 2), padding='same')(x)\n",
    "x = Conv2D(8, (3, 3), activation='relu', padding='same')(x)\n",
    "encoded = MaxPooling2D((2, 2), padding='same')(x)\n",
    "\n",
    "# Decoder\n",
    "x = Conv2D(8, (3, 3), activation='relu', padding='same')(encoded)\n",
    "x = UpSampling2D((2, 2))(x)\n",
    "x = Conv2D(16, (3, 3), activation='relu', padding='same')(x)\n",
    "x = UpSampling2D((2, 2))(x)\n",
    "decoded = Conv2D(3, (3, 3), activation='sigmoid', padding='same')(x)\n",
    "\n",
    "# Autoencoder\n",
    "autoencoder = Model(input_img, decoded)\n",
    "autoencoder.compile(optimizer='adam', loss='binary_crossentropy')"
   ]
  },
  {
   "cell_type": "code",
   "execution_count": null,
   "id": "05fbe347-b48b-45ad-81a2-dc5c3e783b79",
   "metadata": {},
   "outputs": [],
   "source": [
    "encoder = Model(input_img, encoded)"
   ]
  },
  {
   "cell_type": "code",
   "execution_count": null,
   "id": "3fb57b2b-d928-48b9-b74c-33722de8c84e",
   "metadata": {},
   "outputs": [],
   "source": [
    "autoencoder.load_weights('/home/jupyter/artsy-fartsci-back/weights/weights0039.hdf5')"
   ]
  },
  {
   "cell_type": "markdown",
   "id": "4131d9b0-b1d2-49dc-8a3f-16ce31cba47d",
   "metadata": {},
   "source": [
    "## Grabbing the five closest"
   ]
  },
  {
   "cell_type": "code",
   "execution_count": null,
   "id": "7d196fd5-6afe-4430-ac2a-3e38f9f1e00f",
   "metadata": {},
   "outputs": [],
   "source": [
    "def get_top_5_similar(input_image, dataset):\n",
    "    input_representation = encoder.predict(input_image)\n",
    "    \n",
    "    # Compute cosine similarities between the input image and all images in the dataset\n",
    "    similarities = cosine_similarity(input_representation.reshape(1, -1), \n",
    "                                     encoder.predict(dataset).reshape(len(dataset), -1))\n",
    "    \n",
    "    # Get indices of the top 5 similar images\n",
    "    top_5_indices = np.argsort(similarities[0])[-5:][::-1]  # -6 because the most similar one will be the image itself\n",
    "    \n",
    "    return top_5_indices\n",
    "\n",
    "# Example of getting top 5 similar images to x_test[111]\n",
    "\n",
    "input_image = np.expand_dims(frisbee, axis = 0)\n",
    "similar_indices = get_top_5_similar(input_image, X_test)\n",
    "print(f\"Indices of top 5 similar images: {similar_indices}\")\n",
    "\n",
    "# Display the input image and its 5 most similar images\n",
    "import matplotlib.pyplot as plt\n",
    "\n",
    "fig, ax = plt.subplots(1, 6, figsize=(15, 5))\n",
    "ax[0].imshow(input_image[0])\n",
    "ax[0].set_title(\"Input Image\")\n",
    "ax[0].axis('off')\n",
    "\n",
    "for i, index in enumerate(similar_indices, 1):\n",
    "    ax[i].imshow(X_test[index])\n",
    "    ax[i].set_title(f\"Similar {i}\")\n",
    "    ax[i].axis('off')\n",
    "\n",
    "plt.show()"
   ]
  },
  {
   "cell_type": "code",
   "execution_count": null,
   "id": "acf21e2b-7f36-47fa-a145-63ae9b3a1cdb",
   "metadata": {},
   "outputs": [],
   "source": []
  }
 ],
 "metadata": {
  "environment": {
   "kernel": "python3",
   "name": "tf2-gpu.2-11.m110",
   "type": "gcloud",
   "uri": "gcr.io/deeplearning-platform-release/tf2-gpu.2-11:m110"
  },
  "kernelspec": {
   "display_name": "Python 3",
   "language": "python",
   "name": "python3"
  },
  "language_info": {
   "codemirror_mode": {
    "name": "ipython",
    "version": 3
   },
   "file_extension": ".py",
   "mimetype": "text/x-python",
   "name": "python",
   "nbconvert_exporter": "python",
   "pygments_lexer": "ipython3",
   "version": "3.10.12"
  }
 },
 "nbformat": 4,
 "nbformat_minor": 5
}
