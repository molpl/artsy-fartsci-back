{
 "cells": [
  {
   "cell_type": "markdown",
   "metadata": {},
   "source": [
    "Initial Exploration of Artsy.net API "
   ]
  },
  {
   "cell_type": "markdown",
   "metadata": {},
   "source": [
    "Downloading images and uploading to a bucket"
   ]
  },
  {
   "cell_type": "code",
   "execution_count": 1,
   "metadata": {},
   "outputs": [],
   "source": [
    "# Import cell\n",
    "import requests\n",
    "import os\n",
    "from google.cloud import storage\n",
    "import pandas as pd\n",
    "import shutil"
   ]
  },
  {
   "cell_type": "code",
   "execution_count": 2,
   "metadata": {},
   "outputs": [],
   "source": [
    "# global params\n",
    "\n",
    "# these will only work if you've got your env file set up \n",
    "# if you don't, replace them with your values\n",
    "API_XAPP_TOKEN = os.environ.get(\"API_XAPP_TOKEN\")\n",
    "GCP_PROJECT = os.environ.get(\"GCP_PROJECT\")\n",
    "BUCKET_NAME = os.environ.get(\"BUCKET_NAME\")\n",
    "\n",
    "# this will work with no .env file - \n",
    "# we set it up on the first day and it links to a json file on our local machines\n",
    "# print it to check\n",
    "GOOGLE_APPLICATION_CREDENTIALS = os.environ.get(\"GOOGLE_APPLICATION_CREDENTIALS\")\n",
    "\n",
    "# in your bucket, create a folder called images_raw - do this in the console\n"
   ]
  },
  {
   "cell_type": "code",
   "execution_count": 3,
   "metadata": {},
   "outputs": [],
   "source": [
    "# Get 1000 artworks\n",
    "\n",
    "url = 'https://api.artsy.net/api/artworks'\n",
    "params = {'size':'5',\n",
    "          'xapp_token':API_XAPP_TOKEN}\n",
    "response = requests.get(url,params=params).json()\n",
    "\n",
    "# get list of artworks only\n",
    "items = response['_embedded']['artworks']\n"
   ]
  },
  {
   "cell_type": "code",
   "execution_count": 4,
   "metadata": {},
   "outputs": [],
   "source": [
    "artworks_df = pd.DataFrame(columns=('artwork_id','title','category','medium','date','height_cm','width_cm','image_versions','image_url','collecting_institution','image_url_is_template'))"
   ]
  },
  {
   "cell_type": "code",
   "execution_count": 6,
   "metadata": {},
   "outputs": [],
   "source": [
    "\n",
    "# iterate through artworks and get relevant info\n",
    "artworks = []\n",
    "\n",
    "for artwork in items:\n",
    "    artwork_dict = {}\n",
    "    artwork_dict['artwork_id'] = artwork['id']\n",
    "    artwork_dict['title'] = artwork['title']\n",
    "    artwork_dict['category'] = artwork['category']\n",
    "    artwork_dict['medium'] = artwork['medium']\n",
    "    artwork_dict['date'] = artwork['date']\n",
    "    artwork_dict['height_cm'] = artwork['dimensions']['cm']['height']\n",
    "    artwork_dict['width_cm'] = artwork['dimensions']['cm']['width']\n",
    "    artwork_dict['depth_cm'] = artwork['dimensions']['cm']['depth']\n",
    "    artwork_dict['diameter_cm'] = artwork['dimensions']['cm']['diameter']\n",
    "    artwork_dict['collecting_institution'] = artwork['collecting_institution']\n",
    "    # not every artwork has images so use try except\n",
    "    try:\n",
    "        artwork_dict['image_versions'] = artwork['image_versions']\n",
    "        artwork_dict['image_url'] = artwork['_links']['image']['href']\n",
    "        artwork_dict['image_url_is_template'] = artwork['_links']['image']['templated']\n",
    "    except:\n",
    "        artwork_dict['image_versions'] = []\n",
    "        artwork_dict['image_url'] = ''\n",
    "        artwork_dict['image_url_is_template'] = False\n",
    "    artworks.append(artwork_dict)\n",
    "    \n",
    "\n"
   ]
  },
  {
   "cell_type": "code",
   "execution_count": 7,
   "metadata": {},
   "outputs": [],
   "source": [
    "artworks_df = pd.DataFrame(columns=('artwork_id','title','category','medium','date','height_cm','width_cm','image_versions','image_url','collecting_institution','image_url_is_template'))"
   ]
  },
  {
   "cell_type": "code",
   "execution_count": 8,
   "metadata": {},
   "outputs": [],
   "source": [
    "for artwork in artworks:\n",
    "    artwork_temp = pd.DataFrame([artwork])\n",
    "    artworks_df = pd.concat([artworks_df,artwork_temp], ignore_index=True)"
   ]
  },
  {
   "cell_type": "code",
   "execution_count": 14,
   "metadata": {},
   "outputs": [
    {
     "data": {
      "text/plain": [
       "artwork_id                                         4d8b92eb4eb68a1b2c000968\n",
       "title                                                   Der Kuss (The Kiss)\n",
       "category                                                           Painting\n",
       "medium                                          Oil and gold leaf on canvas\n",
       "date                                                              1907-1908\n",
       "height_cm                                                             180.1\n",
       "width_cm                                                              180.1\n",
       "image_versions            [large, larger, medium, medium_rectangle, norm...\n",
       "image_url                 https://d32dm0rphc51dk.cloudfront.net/NOpIAwQa...\n",
       "collecting_institution            Österreichische Galerie Belvedere, Vienna\n",
       "image_url_is_template                                                  True\n",
       "depth_cm                                                               None\n",
       "diameter_cm                                                            None\n",
       "Name: 0, dtype: object"
      ]
     },
     "execution_count": 14,
     "metadata": {},
     "output_type": "execute_result"
    }
   ],
   "source": [
    "artworks_df.iloc[0,:]"
   ]
  },
  {
   "cell_type": "code",
   "execution_count": 24,
   "metadata": {},
   "outputs": [
    {
     "name": "stdout",
     "output_type": "stream",
     "text": [
      "Folder deleted and recreated\n"
     ]
    }
   ],
   "source": [
    "# create /data folder - if it already exists, delete and recreate \n",
    "path = './data'\n",
    "if not os.path.exists(path):\n",
    "  os.mkdir(path)\n",
    "  print(\"Folder %s created!\" % path)\n",
    "else:\n",
    "    shutil.rmtree(path)\n",
    "    os.mkdir(path)\n",
    "    print(\"Folder deleted and recreated\")\n",
    "  "
   ]
  },
  {
   "cell_type": "code",
   "execution_count": 25,
   "metadata": {},
   "outputs": [
    {
     "name": "stdout",
     "output_type": "stream",
     "text": [
      "https://d32dm0rphc51dk.cloudfront.net/NOpIAwQa-3r51Cg9qXKbfA/medium.jpg\n",
      "https://d32dm0rphc51dk.cloudfront.net/m4X41Fun8gpDjn7Gat9cUg/medium.jpg\n",
      "https://d32dm0rphc51dk.cloudfront.net/IG8ZLvVmZgQiTn2zK0Bp8w/medium.jpg\n",
      "https://d32dm0rphc51dk.cloudfront.net/5L1xjKC_und1uiKCpUPHhw/medium.jpg\n",
      "https://d32dm0rphc51dk.cloudfront.net/zFA7cwdkWxbIrmuAAd21VA/medium.jpg\n"
     ]
    }
   ],
   "source": [
    "# loop through images, download to local file, upload to cloud, delete original file\n",
    "for i in range(len(artworks_df)):\n",
    "    # if this artwork has a medium version\n",
    "    if 'medium' in artworks_df.loc[i,'image_versions']:\n",
    "        # get url name and file name from artwork name\n",
    "        url = artworks_df.loc[i,'image_url'].replace('{image_version}','medium')\n",
    "        file_name = f\"data/{artworks_df.loc[i,'title']}.jpg\"\n",
    "        \n",
    "        # This statement requests the resource at\n",
    "        # the given link, extracts its contents\n",
    "        # and saves it in a variable\n",
    "        data = requests.get(url).content\n",
    "        \n",
    "        # Opening a new file \n",
    "        # This file would store the data of the image file\n",
    "        f = open(file_name,'wb')\n",
    "        \n",
    "        # Storing the image data inside the data variable to the file\n",
    "        f.write(data)\n",
    "        f.close()\n",
    "\n",
    "        # Now upload the image to the cloud\n",
    "        # instantiate storage client\n",
    "        storage_client = storage.Client.from_service_account_json(GOOGLE_APPLICATION_CREDENTIALS, project=GCP_PROJECT)\n",
    "        \n",
    "        # get bucket name\n",
    "        bucket = storage_client.get_bucket(BUCKET_NAME)\n",
    "\n",
    "        # create blob\n",
    "        blob = bucket.blob('images_raw/{}.jpg'.format(f\"{artworks_df.loc[i,'title']}\"))\n",
    "\n",
    "        # set content type\n",
    "        blob.content_type = 'image/jpeg'\n",
    "\n",
    "        # upload file\n",
    "        with open(file_name, 'rb') as f:\n",
    "\n",
    "            blob.upload_from_file(f)\n",
    "            \n",
    "        f.close()\n",
    "        \n",
    "        #delete file\n",
    "        #os.remove(file_name)\n",
    "    \n",
    "    \n",
    "  "
   ]
  },
  {
   "cell_type": "code",
   "execution_count": 2,
   "metadata": {},
   "outputs": [
    {
     "data": {
      "text/plain": [
       "'/home/mollyppl/code/molpl/artsy-fartsci-back/notebooks/./encoded_images/encoded_images.npy'"
      ]
     },
     "execution_count": 2,
     "metadata": {},
     "output_type": "execute_result"
    }
   ],
   "source": [
    "import os\n",
    "cd = '/home/mollyppl/code/molpl/artsy-fartsci-back/notebooks/project_start_off.ipynb'\n",
    "os.path.join(os.path.dirname(cd),'.','encoded_images','encoded_images.npy')"
   ]
  }
 ],
 "metadata": {
  "kernelspec": {
   "display_name": "artsy-fartsci",
   "language": "python",
   "name": "python3"
  },
  "language_info": {
   "codemirror_mode": {
    "name": "ipython",
    "version": 3
   },
   "file_extension": ".py",
   "mimetype": "text/x-python",
   "name": "python",
   "nbconvert_exporter": "python",
   "pygments_lexer": "ipython3",
   "version": "3.10.6"
  },
  "orig_nbformat": 4
 },
 "nbformat": 4,
 "nbformat_minor": 2
}
