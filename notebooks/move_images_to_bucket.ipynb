{
 "cells": [
  {
   "cell_type": "markdown",
   "metadata": {},
   "source": [
    "Move images from urls, to local file to bucket"
   ]
  },
  {
   "cell_type": "code",
   "execution_count": 9,
   "metadata": {},
   "outputs": [],
   "source": [
    "\n",
    "# Import cell\n",
    "import os\n",
    "import requests\n",
    "from google.cloud import storage\n",
    "import pandas as pd\n",
    "import shutil\n",
    "from google.cloud import bigquery"
   ]
  },
  {
   "cell_type": "code",
   "execution_count": 10,
   "metadata": {},
   "outputs": [],
   "source": [
    "# global params\n",
    "\n",
    "GCP_PROJECT = os.environ.get('GCP_PROJECT')\n",
    "BQ_DATASET = os.environ.get('BQ_DATASET')\n",
    "BUCKET_NAME = os.environ.get('BUCKET_NAME')\n",
    "GOOGLE_APPLICATION_CREDENTIALS = os.environ.get('GOOGLE_APPLICATION_CREDENTIALS')"
   ]
  },
  {
   "cell_type": "code",
   "execution_count": 4,
   "metadata": {},
   "outputs": [
    {
     "data": {
      "text/plain": [
       "'/home/mollyppl/code/molpl/gcp/alert-passkey-392415-1db41ed4e59c.json'"
      ]
     },
     "execution_count": 4,
     "metadata": {},
     "output_type": "execute_result"
    }
   ],
   "source": [
    "GOOGLE_APPLICATION_CREDENTIALS"
   ]
  },
  {
   "cell_type": "code",
   "execution_count": 11,
   "metadata": {},
   "outputs": [],
   "source": [
    "# get table name\n",
    "full_table_name = f'{GCP_PROJECT}.{BQ_DATASET}.image_data'\n",
    "# write query\n",
    "query = f'''\n",
    "        SELECT \n",
    "            numeric_index,\n",
    "            artwork_id,\n",
    "            title,\n",
    "            category,\n",
    "            medium,\n",
    "            date,\n",
    "            height_cm,\n",
    "            width_cm,\n",
    "            image_url_template,\n",
    "            collecting_institution,\n",
    "            image_url_normalized\n",
    "        FROM {full_table_name}\n",
    "        '''"
   ]
  },
  {
   "cell_type": "code",
   "execution_count": 12,
   "metadata": {},
   "outputs": [],
   "source": [
    "# get image table from big query\n",
    "# instantiate client\n",
    "client = bigquery.Client(project=GCP_PROJECT)\n",
    "# set up query job\n",
    "query_job = client.query(query)\n",
    "# run query\n",
    "result = query_job.result()\n",
    "# store results in df\n",
    "artworks_df = result.to_dataframe()"
   ]
  },
  {
   "cell_type": "code",
   "execution_count": 13,
   "metadata": {},
   "outputs": [
    {
     "data": {
      "text/plain": [
       "'https://d32dm0rphc51dk.cloudfront.net/YUimsdF4bk4i59NpNfxAXw/normalized.jpg'"
      ]
     },
     "execution_count": 13,
     "metadata": {},
     "output_type": "execute_result"
    }
   ],
   "source": [
    "artworks_df[artworks_df['artwork_id'] == '532897d60bb6d6acf40002a8']\n",
    "artworks_df.iloc[9279,-1]"
   ]
  },
  {
   "cell_type": "code",
   "execution_count": 14,
   "metadata": {},
   "outputs": [
    {
     "name": "stdout",
     "output_type": "stream",
     "text": [
      "Folder deleted and recreated\n"
     ]
    }
   ],
   "source": [
    "# create local folder to store the images\n",
    "path = './image_temp'\n",
    "if not os.path.exists(path):\n",
    "  os.mkdir(path)\n",
    "  print(\"Folder %s created!\" % path)\n",
    "else:\n",
    "    shutil.rmtree(path)\n",
    "    os.mkdir(path)\n",
    "    print(\"Folder deleted and recreated\")\n"
   ]
  },
  {
   "cell_type": "code",
   "execution_count": null,
   "metadata": {},
   "outputs": [],
   "source": [
    "# upload 500 images to a separate folder\n",
    "for i in range(20000,20500):\n",
    "    # get url of normalized image\n",
    "    url = artworks_df.loc[i, 'image_url_normalized']\n",
    "    # get file name from index\n",
    "    file_name = f\"image_temp/{i}_{artworks_df.loc[i,'numeric_index']}_{artworks_df.loc[i,'artwork_id']}.jpg\"\n",
    "    \n",
    "    # get the image from the url\n",
    "    data = requests.get(url).content\n",
    "    \n",
    "    # open a new file\n",
    "    f = open(file_name, 'wb')\n",
    "    \n",
    "    # store the image to the file\n",
    "    f.write(data)\n",
    "    f.close()\n",
    "    \n",
    "    # now upload the image to the cloud\n",
    "    # instantiate the storage client\n",
    "    storage_client = storage.Client.from_service_account_json(GOOGLE_APPLICATION_CREDENTIALS, project=GCP_PROJECT)\n",
    "    \n",
    "    # get bucket\n",
    "    bucket = storage_client.get_bucket(BUCKET_NAME)\n",
    "    \n",
    "    # create blob\n",
    "    blob = bucket.blob('test/{}.jpg'.format(f\"{i}_{artworks_df.loc[i,'numeric_index']}_{artworks_df.loc[i,'artwork_id']}\"))\n",
    "    \n",
    "    # upload file\n",
    "    with open(file_name, 'rb') as f:\n",
    "        blob.upload_from_file(f)\n",
    "    f.close()\n",
    "    \n",
    "    # delete file\n",
    "    os.remove(file_name)"
   ]
  },
  {
   "cell_type": "code",
   "execution_count": 13,
   "metadata": {},
   "outputs": [],
   "source": [
    "# upload all to all folder\n",
    "for i in range(2730,2800):\n",
    "    # get url of normalized image\n",
    "    url = artworks_df.loc[i, 'image_url_normalized']\n",
    "    # get file name from index\n",
    "    file_name = f\"image_temp/{i}_{artworks_df.loc[i,'numeric_index']}_{artworks_df.loc[i,'artwork_id']}.jpg\"\n",
    "    \n",
    "    # get the image from the url\n",
    "    data = requests.get(url).content\n",
    "    \n",
    "    # open a new file\n",
    "    f = open(file_name, 'wb')\n",
    "    \n",
    "    # store the image to the file\n",
    "    f.write(data)\n",
    "    f.close()\n",
    "    \n",
    "    # now upload the image to the cloud\n",
    "    # instantiate the storage client\n",
    "    storage_client = storage.Client.from_service_account_json(GOOGLE_APPLICATION_CREDENTIALS, project=GCP_PROJECT)\n",
    "    \n",
    "    # get bucket\n",
    "    bucket = storage_client.get_bucket(BUCKET_NAME)\n",
    "    \n",
    "    # create blob\n",
    "    blob = bucket.blob('all/{}.jpg'.format(f\"{i}_{artworks_df.loc[i,'numeric_index']}_{artworks_df.loc[i,'artwork_id']}\"))\n",
    "    \n",
    "    # upload file\n",
    "    with open(file_name, 'rb') as f:\n",
    "        blob.upload_from_file(f)\n",
    "    f.close()\n",
    "    \n",
    "    # delete file\n",
    "    os.remove(file_name)"
   ]
  },
  {
   "cell_type": "markdown",
   "metadata": {},
   "source": []
  }
 ],
 "metadata": {
  "kernelspec": {
   "display_name": "artsy-fartsci",
   "language": "python",
   "name": "python3"
  },
  "language_info": {
   "codemirror_mode": {
    "name": "ipython",
    "version": 3
   },
   "file_extension": ".py",
   "mimetype": "text/x-python",
   "name": "python",
   "nbconvert_exporter": "python",
   "pygments_lexer": "ipython3",
   "version": "3.10.6"
  },
  "orig_nbformat": 4
 },
 "nbformat": 4,
 "nbformat_minor": 2
}
