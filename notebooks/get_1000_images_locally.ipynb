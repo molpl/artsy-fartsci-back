{
 "cells": [
  {
   "cell_type": "markdown",
   "metadata": {},
   "source": [
    "Download images locally to start training"
   ]
  },
  {
   "cell_type": "code",
   "execution_count": 14,
   "metadata": {},
   "outputs": [],
   "source": [
    "# Import cell\n",
    "import requests\n",
    "import os\n",
    "import shutil\n"
   ]
  },
  {
   "cell_type": "code",
   "execution_count": 15,
   "metadata": {},
   "outputs": [],
   "source": [
    "# params\n",
    "# eventually these will go in the .env etc but keep here for now\n",
    "API_XAPP_TOKEN = '' # add your API token here - DO NOT PUSH TO GIT WITH THIS TOKEN"
   ]
  },
  {
   "cell_type": "code",
   "execution_count": 20,
   "metadata": {},
   "outputs": [],
   "source": [
    "# Get 1000 artworks\n",
    "\n",
    "url = 'https://api.artsy.net/api/artworks'\n",
    "params = {'size':'1000',\n",
    "          'xapp_token':API_XAPP_TOKEN}\n",
    "response = requests.get(url,params=params).json()\n",
    "\n",
    "# get list of artworks only\n",
    "artworks = response['_embedded']['artworks']"
   ]
  },
  {
   "cell_type": "code",
   "execution_count": 21,
   "metadata": {},
   "outputs": [],
   "source": [
    "# iterate through artworks and get relevant info\n",
    "artworks_ = []\n",
    "for artwork in artworks:\n",
    "    artwork_dict = {}\n",
    "    artwork_dict['artwork_id'] = artwork['id']\n",
    "    artwork_dict['title'] = artwork['title']\n",
    "    artwork_dict['category'] = artwork['category']\n",
    "    artwork_dict['medium'] = artwork['medium']\n",
    "    artwork_dict['date'] = artwork['date']\n",
    "    artwork_dict['height_cm'] = artwork['dimensions']['cm']['height']\n",
    "    artwork_dict['width_cm'] = artwork['dimensions']['cm']['width']\n",
    "    artwork_dict['depth_cm'] = artwork['dimensions']['cm']['depth']\n",
    "    artwork_dict['diameter_cm'] = artwork['dimensions']['cm']['diameter']\n",
    "    artwork_dict['collecting_institution'] = artwork['collecting_institution']\n",
    "    # not every artwork has images so use try except\n",
    "    try:\n",
    "        artwork_dict['image_versions'] = artwork['image_versions']\n",
    "        artwork_dict['image_url'] = artwork['_links']['image']['href']\n",
    "        artwork_dict['image_url_is_template'] = artwork['_links']['image']['templated']\n",
    "    except:\n",
    "        artwork_dict['image_versions'] = None\n",
    "        artwork_dict['image_url'] = None\n",
    "        artwork_dict['image_url_is_template'] = None\n",
    "    artworks_.append(artwork_dict)\n",
    "    \n",
    "# iterate through artworks and get list of image urls\n",
    "for artwork in artworks_:\n",
    "    image_urls = {}\n",
    "    if artwork['image_url_is_template']:\n",
    "        for version in artwork['image_versions']:\n",
    "            image_urls[version] = artwork['image_url'].replace(\"{image_version}\",version)\n",
    "    artwork['image_url_all'] = image_urls"
   ]
  },
  {
   "cell_type": "code",
   "execution_count": 22,
   "metadata": {},
   "outputs": [
    {
     "name": "stdout",
     "output_type": "stream",
     "text": [
      "Folder deleted and recreated\n"
     ]
    }
   ],
   "source": [
    "# create /data folder - if it already exists, delete and recreate \n",
    "path = './data'\n",
    "if not os.path.exists(path):\n",
    "  os.mkdir(path)\n",
    "  print(\"Folder %s created!\" % path)\n",
    "else:\n",
    "    shutil.rmtree(path)\n",
    "    os.mkdir(path)\n",
    "    print(\"Folder deleted and recreated\")\n",
    "  "
   ]
  },
  {
   "cell_type": "code",
   "execution_count": 23,
   "metadata": {},
   "outputs": [],
   "source": [
    "# loop through images, download to local file in /data folder\n",
    "for artwork in artworks_:\n",
    "    \n",
    "    \n",
    "    url = artwork['image_url_all']['medium']\n",
    "    file_name = f\"data/{artwork['title']}_medium.jpg\"\n",
    "    # This statement requests the resource at\n",
    "    # the given link, extracts its contents\n",
    "    # and saves it in a variable\n",
    "    data = requests.get(url).content\n",
    "    \n",
    "    # Opening a new file named img with extension .jpg\n",
    "    # This file would store the data of the image file\n",
    "    f = open(file_name,'wb')\n",
    "    \n",
    "    # Storing the image data inside the data variable to the file\n",
    "    f.write(data)\n",
    "    f.close()\n"
   ]
  },
  {
   "cell_type": "code",
   "execution_count": 24,
   "metadata": {},
   "outputs": [],
   "source": [
    "# When finished - delete data folder before pushing to git"
   ]
  }
 ],
 "metadata": {
  "kernelspec": {
   "display_name": "artsy-fartsci",
   "language": "python",
   "name": "python3"
  },
  "language_info": {
   "codemirror_mode": {
    "name": "ipython",
    "version": 3
   },
   "file_extension": ".py",
   "mimetype": "text/x-python",
   "name": "python",
   "nbconvert_exporter": "python",
   "pygments_lexer": "ipython3",
   "version": "3.10.6"
  },
  "orig_nbformat": 4
 },
 "nbformat": 4,
 "nbformat_minor": 2
}
