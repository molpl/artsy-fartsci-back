{
 "cells": [
  {
   "cell_type": "markdown",
   "metadata": {},
   "source": [
    "Move model weights and encoded images file to bucket"
   ]
  },
  {
   "cell_type": "code",
   "execution_count": 1,
   "metadata": {},
   "outputs": [],
   "source": [
    "# Import cell\n",
    "import os\n",
    "import requests\n",
    "from google.cloud import storage\n",
    "import pandas as pd\n",
    "import shutil\n",
    "from google.cloud import bigquery"
   ]
  },
  {
   "cell_type": "code",
   "execution_count": 2,
   "metadata": {},
   "outputs": [],
   "source": [
    "# global params\n",
    "\n",
    "GCP_PROJECT = os.environ.get('GCP_PROJECT')\n",
    "BQ_DATASET = os.environ.get('BQ_DATASET')\n",
    "BUCKET_NAME = os.environ.get('BUCKET_NAME')\n",
    "GOOGLE_APPLICATION_CREDENTIALS = os.environ.get('GOOGLE_APPLICATION_CREDENTIALS')"
   ]
  },
  {
   "cell_type": "code",
   "execution_count": 3,
   "metadata": {},
   "outputs": [],
   "source": [
    "#file name for weights\n",
    "file_name = '/home/mollyppl/code/molpl/project_outside_git/weights0039.hdf5'\n",
    "\n",
    "# instantiate the storage client\n",
    "storage_client = storage.Client.from_service_account_json(GOOGLE_APPLICATION_CREDENTIALS, project=GCP_PROJECT)\n",
    "\n",
    "# get bucket\n",
    "bucket = storage_client.get_bucket(BUCKET_NAME)\n",
    "\n",
    "# create blob for model\n",
    "blob = bucket.blob('model/{}.hdf5'.format(f\"modelweights_10000\"))\n",
    "\n",
    "# upload file\n",
    "with open(file_name, 'rb') as f:\n",
    "    blob.upload_from_file(f)\n",
    "f.close()"
   ]
  },
  {
   "cell_type": "code",
   "execution_count": null,
   "metadata": {},
   "outputs": [],
   "source": [
    "#file name for weights\n",
    "file_name = '/home/mollyppl/code/molpl/project_outside_git/encoded_10000.npy'\n",
    "\n",
    "# instantiate the storage client\n",
    "storage_client = storage.Client.from_service_account_json(GOOGLE_APPLICATION_CREDENTIALS, project=GCP_PROJECT)\n",
    "\n",
    "# get bucket\n",
    "bucket = storage_client.get_bucket(BUCKET_NAME)\n",
    "\n",
    "# create blob for model\n",
    "blob = bucket.blob('encoded/{}.npy'.format(f\"encoded_10000\"))\n",
    "\n",
    "# upload file\n",
    "with open(file_name, 'rb') as f:\n",
    "    blob.upload_from_file(f)\n",
    "f.close()"
   ]
  }
 ],
 "metadata": {
  "kernelspec": {
   "display_name": "artsy-fartsci",
   "language": "python",
   "name": "python3"
  },
  "language_info": {
   "codemirror_mode": {
    "name": "ipython",
    "version": 3
   },
   "file_extension": ".py",
   "mimetype": "text/x-python",
   "name": "python",
   "nbconvert_exporter": "python",
   "pygments_lexer": "ipython3",
   "version": "3.10.6"
  },
  "orig_nbformat": 4
 },
 "nbformat": 4,
 "nbformat_minor": 2
}
