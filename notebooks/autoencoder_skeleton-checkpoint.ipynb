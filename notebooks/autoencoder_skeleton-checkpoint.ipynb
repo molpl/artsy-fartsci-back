{
 "cells": [
  {
   "cell_type": "code",
   "execution_count": null,
   "metadata": {},
   "outputs": [],
   "source": [
    "import matplotlib.pyplot as plt\n",
    "import math\n",
    "from PIL import Image\n",
    "from tensorflow import convert_to_tensor\n",
    "from sklearn.model_selection import train_test_split\n",
    "import numpy as np\n",
    "import tensorflow as tf\n",
    "from tensorflow.keras.layers import Input, Dense, Conv2D, MaxPooling2D, UpSampling2D\n",
    "from tensorflow.keras.models import Model\n",
    "from sklearn.metrics.pairwise import cosine_similarity"
   ]
  },
  {
   "cell_type": "code",
   "execution_count": null,
   "metadata": {},
   "outputs": [],
   "source": [
    "import os\n",
    "img_path = os.listdir('/home/jupyter/500/images')"
   ]
  },
  {
   "cell_type": "code",
   "execution_count": null,
   "metadata": {},
   "outputs": [],
   "source": [
    "img_tensors = []\n",
    "\n",
    "for image_filename in img_path:\n",
    "    img = Image.open(os.path.join('/home/jupyter/500/images', image_filename))\n",
    "    img = img.resize((224,224))\n",
    "    img_tensors.append(convert_to_tensor(img))\n",
    "    "
   ]
  },
  {
   "cell_type": "code",
   "execution_count": null,
   "metadata": {},
   "outputs": [],
   "source": [
    "X = np.array(img_tensors)\n",
    "y = np.array(img_tensors)"
   ]
  },
  {
   "cell_type": "code",
   "execution_count": null,
   "metadata": {},
   "outputs": [],
   "source": [
    "plt.imshow(X[0])"
   ]
  },
  {
   "cell_type": "code",
   "execution_count": null,
   "metadata": {},
   "outputs": [],
   "source": []
  },
  {
   "cell_type": "code",
   "execution_count": null,
   "metadata": {},
   "outputs": [],
   "source": [
    "X_train, X_test, y_train, y_test = train_test_split(X,y, test_size = 0.3)"
   ]
  },
  {
   "cell_type": "code",
   "execution_count": null,
   "metadata": {},
   "outputs": [],
   "source": []
  },
  {
   "cell_type": "code",
   "execution_count": null,
   "metadata": {},
   "outputs": [],
   "source": []
  },
  {
   "cell_type": "code",
   "execution_count": null,
   "metadata": {},
   "outputs": [],
   "source": [
    "input_img = Input(shape=(224, 224, 3))\n",
    "x = Conv2D(16, (3, 3), activation='relu', padding='same')(input_img)\n",
    "x = MaxPooling2D((2, 2), padding='same')(x)\n",
    "x = Conv2D(8, (3, 3), activation='relu', padding='same')(x)\n",
    "encoded = MaxPooling2D((2, 2), padding='same')(x)\n",
    "\n",
    "# Decoder\n",
    "x = Conv2D(8, (3, 3), activation='relu', padding='same')(encoded)\n",
    "x = UpSampling2D((2, 2))(x)\n",
    "x = Conv2D(16, (3, 3), activation='relu', padding='same')(x)\n",
    "x = UpSampling2D((2, 2))(x)\n",
    "decoded = Conv2D(3, (3, 3), activation='sigmoid', padding='same')(x)\n",
    "\n",
    "# Autoencoder\n",
    "autoencoder = Model(input_img, decoded)\n",
    "autoencoder.compile(optimizer='adam', loss='binary_crossentropy')"
   ]
  },
  {
   "cell_type": "code",
   "execution_count": null,
   "metadata": {},
   "outputs": [],
   "source": []
  },
  {
   "cell_type": "code",
   "execution_count": null,
   "metadata": {},
   "outputs": [],
   "source": [
    "encoder = Model(input_img, encoded)\n",
    "\n",
    "# Suppose we want to compare two images\n",
    "image1_representation = encoder.predict(X_test[0:1])\n",
    "image2_representation = encoder.predict(X_test[1:2])\n",
    "\n",
    "# Compute similarity using cosine similarity\n",
    "similarity = cosine_similarity(image1_representation.reshape(1, -1), image2_representation.reshape(1, -1))\n",
    "\n",
    "print(f\"Similarity between the two images: {similarity[0][0]}\")"
   ]
  },
  {
   "cell_type": "code",
   "execution_count": null,
   "metadata": {},
   "outputs": [],
   "source": []
  },
  {
   "cell_type": "code",
   "execution_count": null,
   "metadata": {},
   "outputs": [],
   "source": [
    "from tensorflow.keras.preprocessing.image import ImageDataGenerator\n",
    "\n",
    "train_datagen = ImageDataGenerator(\n",
    "        rescale=1./255,\n",
    "        validation_split = 0.3)\n",
    "train_generator = train_datagen.flow_from_directory(\n",
    "        '/home/jupyter/500',\n",
    "        target_size=(224, 224),\n",
    "        batch_size= 32,\n",
    "        class_mode='input',\n",
    "        subset = 'training',\n",
    "        color_mode = 'rgb' )\n",
    "validation_generator = train_datagen.flow_from_directory(\n",
    "        '/home/jupyter/500',\n",
    "        target_size=(224, 224),\n",
    "        batch_size=32,\n",
    "        class_mode='input',\n",
    "        subset = 'validation',\n",
    "        color_mode = 'rgb')\n",
    "autoencoder.fit(\n",
    "        train_generator,\n",
    "        epochs=7,\n",
    "        validation_data=validation_generator,\n",
    "        validation_steps=20)"
   ]
  },
  {
   "cell_type": "code",
   "execution_count": null,
   "metadata": {},
   "outputs": [],
   "source": [
    "model_path = '/home/jupyter/artsy-fartsci-back/models/initial_model.h5'\n",
    "autoencoder.save(model_path)"
   ]
  },
  {
   "cell_type": "code",
   "execution_count": null,
   "metadata": {},
   "outputs": [],
   "source": [
    "def get_top_5_similar(input_image, dataset):\n",
    "    input_representation = encoder.predict(input_image)\n",
    "    \n",
    "    # Compute cosine similarities between the input image and all images in the dataset\n",
    "    similarities = cosine_similarity(input_representation.reshape(1, -1), \n",
    "                                     encoder.predict(dataset).reshape(len(dataset), -1))\n",
    "    \n",
    "    # Get indices of the top 5 similar images\n",
    "    top_5_indices = np.argsort(similarities[0])[-6:-1][::-1]  # -6 because the most similar one will be the image itself\n",
    "    \n",
    "    return top_5_indices\n",
    "\n",
    "# Example of getting top 5 similar images to x_test[0]\n",
    "input_image = X_test[7:8]\n",
    "similar_indices = get_top_5_similar(input_image, X_test)\n",
    "print(f\"Indices of top 5 similar images: {similar_indices}\")\n",
    "\n",
    "# Display the input image and its 5 most similar images\n",
    "import matplotlib.pyplot as plt\n",
    "\n",
    "fig, ax = plt.subplots(1, 6, figsize=(15, 5))\n",
    "ax[0].imshow(input_image[0])\n",
    "ax[0].set_title(\"Input Image\")\n",
    "ax[0].axis('off')\n",
    "\n",
    "for i, index in enumerate(similar_indices, 1):\n",
    "    ax[i].imshow(X_test[index])\n",
    "    ax[i].set_title(f\"Similar {i}\")\n",
    "    ax[i].axis('off')\n",
    "\n",
    "plt.show()"
   ]
  },
  {
   "cell_type": "code",
   "execution_count": null,
   "metadata": {},
   "outputs": [],
   "source": []
  },
  {
   "cell_type": "code",
   "execution_count": null,
   "metadata": {},
   "outputs": [],
   "source": []
  },
  {
   "cell_type": "code",
   "execution_count": null,
   "metadata": {},
   "outputs": [],
   "source": []
  },
  {
   "cell_type": "code",
   "execution_count": null,
   "metadata": {},
   "outputs": [],
   "source": []
  },
  {
   "cell_type": "code",
   "execution_count": null,
   "metadata": {},
   "outputs": [],
   "source": []
  },
  {
   "cell_type": "code",
   "execution_count": null,
   "metadata": {},
   "outputs": [],
   "source": [
    "\n"
   ]
  },
  {
   "cell_type": "code",
   "execution_count": null,
   "metadata": {},
   "outputs": [],
   "source": []
  }
 ],
 "metadata": {
  "environment": {
   "kernel": "python3",
   "name": "tf2-gpu.2-11.m110",
   "type": "gcloud",
   "uri": "gcr.io/deeplearning-platform-release/tf2-gpu.2-11:m110"
  },
  "kernelspec": {
   "display_name": "Python 3",
   "language": "python",
   "name": "python3"
  },
  "language_info": {
   "codemirror_mode": {
    "name": "ipython",
    "version": 3
   },
   "file_extension": ".py",
   "mimetype": "text/x-python",
   "name": "python",
   "nbconvert_exporter": "python",
   "pygments_lexer": "ipython3",
   "version": "3.10.12"
  },
  "toc-autonumbering": false,
  "toc-showcode": false,
  "toc-showmarkdowntxt": false,
  "toc-showtags": false
 },
 "nbformat": 4,
 "nbformat_minor": 4
}
