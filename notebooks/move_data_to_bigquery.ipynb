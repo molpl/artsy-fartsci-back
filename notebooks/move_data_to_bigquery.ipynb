{
 "cells": [
  {
   "cell_type": "markdown",
   "metadata": {},
   "source": [
    "Move data from dataframe to BigQuery"
   ]
  },
  {
   "cell_type": "markdown",
   "metadata": {},
   "source": [
    "Dataframe already populated with data from API in prev stage"
   ]
  },
  {
   "cell_type": "code",
   "execution_count": 1,
   "metadata": {},
   "outputs": [],
   "source": [
    "# imports\n",
    "import os\n",
    "import pandas as pd\n",
    "from google.cloud import bigquery\n",
    "\n"
   ]
  },
  {
   "cell_type": "code",
   "execution_count": 2,
   "metadata": {},
   "outputs": [],
   "source": [
    "# global params\n",
    "GCP_PROJECT = os.environ.get('GCP_PROJECT')\n",
    "BQ_DATASET = os.environ.get('BQ_DATASET')"
   ]
  },
  {
   "cell_type": "code",
   "execution_count": 3,
   "metadata": {},
   "outputs": [],
   "source": [
    "# get data from local csv (created by Alex is separate notebook)\n",
    "artworks_df = pd.read_csv('artsy-fartsci-images.csv')"
   ]
  },
  {
   "cell_type": "code",
   "execution_count": 4,
   "metadata": {},
   "outputs": [
    {
     "name": "stdout",
     "output_type": "stream",
     "text": [
      "<class 'pandas.core.frame.DataFrame'>\n",
      "RangeIndex: 22178 entries, 0 to 22177\n",
      "Data columns (total 12 columns):\n",
      " #   Column                  Non-Null Count  Dtype  \n",
      "---  ------                  --------------  -----  \n",
      " 0   Unnamed: 0              22178 non-null  int64  \n",
      " 1   artwork_id              22178 non-null  object \n",
      " 2   title                   22178 non-null  object \n",
      " 3   category                22177 non-null  object \n",
      " 4   medium                  22117 non-null  object \n",
      " 5   date                    17143 non-null  object \n",
      " 6   height_cm               10731 non-null  float64\n",
      " 7   width_cm                10701 non-null  float64\n",
      " 8   collecting_institution  22005 non-null  object \n",
      " 9   image_url               22178 non-null  object \n",
      " 10  image_url_is_template   22178 non-null  bool   \n",
      " 11  normalized              22178 non-null  bool   \n",
      "dtypes: bool(2), float64(2), int64(1), object(7)\n",
      "memory usage: 1.7+ MB\n"
     ]
    }
   ],
   "source": [
    "# have a look at the data\n",
    "artworks_df.info()"
   ]
  },
  {
   "cell_type": "code",
   "execution_count": 7,
   "metadata": {},
   "outputs": [],
   "source": [
    "# rename url col with template\n",
    "artworks_df.rename(columns={'image_url':'image_url_template'},inplace=True)\n"
   ]
  },
  {
   "cell_type": "code",
   "execution_count": 8,
   "metadata": {},
   "outputs": [],
   "source": [
    "# drop is template col - all are true so is redundant\n",
    "artworks_df.drop(columns=['image_url_is_template','Unnamed: 0'],inplace=True)"
   ]
  },
  {
   "cell_type": "code",
   "execution_count": 9,
   "metadata": {},
   "outputs": [],
   "source": [
    "# drop normalized col - all are true so redundant\n",
    "artworks_df.drop(columns=['normalized'],inplace=True)"
   ]
  },
  {
   "cell_type": "code",
   "execution_count": 10,
   "metadata": {},
   "outputs": [],
   "source": [
    "# create new url col with normalized url\n",
    "artworks_df['image_url_normalized'] = artworks_df['image_url_template'].apply(lambda x: x.replace('{image_version}','normalized'))\n",
    "\n"
   ]
  },
  {
   "cell_type": "code",
   "execution_count": 12,
   "metadata": {},
   "outputs": [
    {
     "data": {
      "text/html": [
       "<div>\n",
       "<style scoped>\n",
       "    .dataframe tbody tr th:only-of-type {\n",
       "        vertical-align: middle;\n",
       "    }\n",
       "\n",
       "    .dataframe tbody tr th {\n",
       "        vertical-align: top;\n",
       "    }\n",
       "\n",
       "    .dataframe thead th {\n",
       "        text-align: right;\n",
       "    }\n",
       "</style>\n",
       "<table border=\"1\" class=\"dataframe\">\n",
       "  <thead>\n",
       "    <tr style=\"text-align: right;\">\n",
       "      <th></th>\n",
       "      <th>artwork_id</th>\n",
       "      <th>title</th>\n",
       "      <th>category</th>\n",
       "      <th>medium</th>\n",
       "      <th>date</th>\n",
       "      <th>height_cm</th>\n",
       "      <th>width_cm</th>\n",
       "      <th>collecting_institution</th>\n",
       "      <th>image_url_template</th>\n",
       "      <th>image_url_normalized</th>\n",
       "    </tr>\n",
       "  </thead>\n",
       "  <tbody>\n",
       "    <tr>\n",
       "      <th>0</th>\n",
       "      <td>4d8b92eb4eb68a1b2c000968</td>\n",
       "      <td>Der Kuss (The Kiss)</td>\n",
       "      <td>Painting</td>\n",
       "      <td>Oil and gold leaf on canvas</td>\n",
       "      <td>1907-1908</td>\n",
       "      <td>180.1</td>\n",
       "      <td>180.1</td>\n",
       "      <td>Österreichische Galerie Belvedere, Vienna</td>\n",
       "      <td>https://d32dm0rphc51dk.cloudfront.net/NOpIAwQa...</td>\n",
       "      <td>https://d32dm0rphc51dk.cloudfront.net/NOpIAwQa...</td>\n",
       "    </tr>\n",
       "    <tr>\n",
       "      <th>1</th>\n",
       "      <td>4d8b92ee4eb68a1b2c0009ab</td>\n",
       "      <td>The Third of May</td>\n",
       "      <td>Painting</td>\n",
       "      <td>Oil on canvas</td>\n",
       "      <td>1814</td>\n",
       "      <td>266.2</td>\n",
       "      <td>345.2</td>\n",
       "      <td>Museo Nacional del Prado, Madrid</td>\n",
       "      <td>https://d32dm0rphc51dk.cloudfront.net/m4X41Fun...</td>\n",
       "      <td>https://d32dm0rphc51dk.cloudfront.net/m4X41Fun...</td>\n",
       "    </tr>\n",
       "    <tr>\n",
       "      <th>2</th>\n",
       "      <td>4d8b93394eb68a1b2c0010fa</td>\n",
       "      <td>The Company of Frans Banning Cocq and Willem v...</td>\n",
       "      <td>Painting</td>\n",
       "      <td>Oil on canvas</td>\n",
       "      <td>1642</td>\n",
       "      <td>363.2</td>\n",
       "      <td>437.4</td>\n",
       "      <td>Rijksmuseum, Amsterdam</td>\n",
       "      <td>https://d32dm0rphc51dk.cloudfront.net/IG8ZLvVm...</td>\n",
       "      <td>https://d32dm0rphc51dk.cloudfront.net/IG8ZLvVm...</td>\n",
       "    </tr>\n",
       "    <tr>\n",
       "      <th>3</th>\n",
       "      <td>4d8b937c4eb68a1b2c001722</td>\n",
       "      <td>Mona Lisa</td>\n",
       "      <td>Painting</td>\n",
       "      <td>Oil on poplar</td>\n",
       "      <td>ca. 1503-1506</td>\n",
       "      <td>77.0</td>\n",
       "      <td>53.1</td>\n",
       "      <td>Musée du Louvre</td>\n",
       "      <td>https://d32dm0rphc51dk.cloudfront.net/5L1xjKC_...</td>\n",
       "      <td>https://d32dm0rphc51dk.cloudfront.net/5L1xjKC_...</td>\n",
       "    </tr>\n",
       "    <tr>\n",
       "      <th>4</th>\n",
       "      <td>4d8b93b04eb68a1b2c001b9d</td>\n",
       "      <td>Luncheon on the Grass (Le Déjeuner sur l'herbe)</td>\n",
       "      <td>Painting</td>\n",
       "      <td>Oil on canvas</td>\n",
       "      <td>1863</td>\n",
       "      <td>208.3</td>\n",
       "      <td>264.2</td>\n",
       "      <td>Musée d'Orsay, Paris</td>\n",
       "      <td>https://d32dm0rphc51dk.cloudfront.net/zFA7cwdk...</td>\n",
       "      <td>https://d32dm0rphc51dk.cloudfront.net/zFA7cwdk...</td>\n",
       "    </tr>\n",
       "  </tbody>\n",
       "</table>\n",
       "</div>"
      ],
      "text/plain": [
       "                 artwork_id  \\\n",
       "0  4d8b92eb4eb68a1b2c000968   \n",
       "1  4d8b92ee4eb68a1b2c0009ab   \n",
       "2  4d8b93394eb68a1b2c0010fa   \n",
       "3  4d8b937c4eb68a1b2c001722   \n",
       "4  4d8b93b04eb68a1b2c001b9d   \n",
       "\n",
       "                                               title  category  \\\n",
       "0                                Der Kuss (The Kiss)  Painting   \n",
       "1                                   The Third of May  Painting   \n",
       "2  The Company of Frans Banning Cocq and Willem v...  Painting   \n",
       "3                                          Mona Lisa  Painting   \n",
       "4    Luncheon on the Grass (Le Déjeuner sur l'herbe)  Painting   \n",
       "\n",
       "                        medium           date  height_cm  width_cm  \\\n",
       "0  Oil and gold leaf on canvas      1907-1908      180.1     180.1   \n",
       "1                Oil on canvas           1814      266.2     345.2   \n",
       "2                Oil on canvas           1642      363.2     437.4   \n",
       "3                Oil on poplar  ca. 1503-1506       77.0      53.1   \n",
       "4                Oil on canvas           1863      208.3     264.2   \n",
       "\n",
       "                      collecting_institution  \\\n",
       "0  Österreichische Galerie Belvedere, Vienna   \n",
       "1           Museo Nacional del Prado, Madrid   \n",
       "2                     Rijksmuseum, Amsterdam   \n",
       "3                            Musée du Louvre   \n",
       "4                       Musée d'Orsay, Paris   \n",
       "\n",
       "                                  image_url_template  \\\n",
       "0  https://d32dm0rphc51dk.cloudfront.net/NOpIAwQa...   \n",
       "1  https://d32dm0rphc51dk.cloudfront.net/m4X41Fun...   \n",
       "2  https://d32dm0rphc51dk.cloudfront.net/IG8ZLvVm...   \n",
       "3  https://d32dm0rphc51dk.cloudfront.net/5L1xjKC_...   \n",
       "4  https://d32dm0rphc51dk.cloudfront.net/zFA7cwdk...   \n",
       "\n",
       "                                image_url_normalized  \n",
       "0  https://d32dm0rphc51dk.cloudfront.net/NOpIAwQa...  \n",
       "1  https://d32dm0rphc51dk.cloudfront.net/m4X41Fun...  \n",
       "2  https://d32dm0rphc51dk.cloudfront.net/IG8ZLvVm...  \n",
       "3  https://d32dm0rphc51dk.cloudfront.net/5L1xjKC_...  \n",
       "4  https://d32dm0rphc51dk.cloudfront.net/zFA7cwdk...  "
      ]
     },
     "execution_count": 12,
     "metadata": {},
     "output_type": "execute_result"
    }
   ],
   "source": [
    "artworks_df.head()"
   ]
  },
  {
   "cell_type": "code",
   "execution_count": 13,
   "metadata": {},
   "outputs": [],
   "source": [
    "# load into BigQuery\n",
    "# get full table name\n",
    "full_table_name = f'{GCP_PROJECT}.{BQ_DATASET}.image_data'\n",
    "#source data\n",
    "source_data = artworks_df\n",
    "# instantiate client\n",
    "client = bigquery.Client(project=GCP_PROJECT)\n",
    "# truncate or append?\n",
    "write_mode = 'WRITE_TRUNCATE'\n",
    "# job_config\n",
    "job_config = bigquery.LoadJobConfig(write_disposition=write_mode)\n",
    "# job\n",
    "job = client.load_table_from_dataframe(source_data,full_table_name,job_config=job_config)\n",
    "# result\n",
    "result = job.result()"
   ]
  },
  {
   "cell_type": "code",
   "execution_count": null,
   "metadata": {},
   "outputs": [],
   "source": []
  }
 ],
 "metadata": {
  "kernelspec": {
   "display_name": "artsy-fartsci",
   "language": "python",
   "name": "python3"
  },
  "language_info": {
   "codemirror_mode": {
    "name": "ipython",
    "version": 3
   },
   "file_extension": ".py",
   "mimetype": "text/x-python",
   "name": "python",
   "nbconvert_exporter": "python",
   "pygments_lexer": "ipython3",
   "version": "3.10.6"
  },
  "orig_nbformat": 4
 },
 "nbformat": 4,
 "nbformat_minor": 2
}
