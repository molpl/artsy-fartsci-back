{
 "cells": [
  {
   "cell_type": "markdown",
   "metadata": {},
   "source": [
    "Move data from dataframe to BigQuery"
   ]
  },
  {
   "cell_type": "markdown",
   "metadata": {},
   "source": [
    "Dataframe already populated with data from API in prev stage"
   ]
  },
  {
   "cell_type": "code",
   "execution_count": 1,
   "metadata": {},
   "outputs": [],
   "source": [
    "# imports\n",
    "import os\n",
    "import pandas as pd\n",
    "from google.cloud import bigquery\n",
    "\n"
   ]
  },
  {
   "cell_type": "code",
   "execution_count": 2,
   "metadata": {},
   "outputs": [],
   "source": [
    "# global params\n",
    "GCP_PROJECT = os.environ.get('GCP_PROJECT')\n",
    "BQ_DATASET = os.environ.get('BQ_DATASET')"
   ]
  },
  {
   "cell_type": "code",
   "execution_count": 3,
   "metadata": {},
   "outputs": [],
   "source": [
    "# get data from local csv (created by Alex is separate notebook)\n",
    "artworks_df = pd.read_csv('../data/artsy-fartsci-images.csv')"
   ]
  },
  {
   "cell_type": "code",
   "execution_count": 4,
   "metadata": {},
   "outputs": [
    {
     "name": "stdout",
     "output_type": "stream",
     "text": [
      "<class 'pandas.core.frame.DataFrame'>\n",
      "RangeIndex: 23815 entries, 0 to 23814\n",
      "Data columns (total 12 columns):\n",
      " #   Column                  Non-Null Count  Dtype  \n",
      "---  ------                  --------------  -----  \n",
      " 0   Unnamed: 0              23815 non-null  int64  \n",
      " 1   artwork_id              23815 non-null  object \n",
      " 2   title                   23815 non-null  object \n",
      " 3   category                22177 non-null  object \n",
      " 4   medium                  23815 non-null  bool   \n",
      " 5   date                    18757 non-null  object \n",
      " 6   height_cm               11406 non-null  float64\n",
      " 7   width_cm                11371 non-null  float64\n",
      " 8   image_url               23815 non-null  object \n",
      " 9   collecting_institution  22005 non-null  object \n",
      " 10  image_url_is_template   23815 non-null  bool   \n",
      " 11  normalized              23815 non-null  bool   \n",
      "dtypes: bool(3), float64(2), int64(1), object(6)\n",
      "memory usage: 1.7+ MB\n"
     ]
    }
   ],
   "source": [
    "# have a look at the data\n",
    "artworks_df.info()"
   ]
  },
  {
   "cell_type": "code",
   "execution_count": 5,
   "metadata": {},
   "outputs": [],
   "source": [
    "# rename url col with template\n",
    "artworks_df.rename(columns={'image_url':'image_url_template'},inplace=True)\n"
   ]
  },
  {
   "cell_type": "code",
   "execution_count": 6,
   "metadata": {},
   "outputs": [],
   "source": [
    "# rename index column\n",
    "artworks_df.rename(columns={'Unnamed: 0':'numeric_index'},inplace=True)"
   ]
  },
  {
   "cell_type": "code",
   "execution_count": 7,
   "metadata": {},
   "outputs": [],
   "source": [
    "# drop is template col - all are true so is redundant\n",
    "artworks_df.drop(columns=['image_url_is_template'],inplace=True)"
   ]
  },
  {
   "cell_type": "code",
   "execution_count": 8,
   "metadata": {},
   "outputs": [],
   "source": [
    "# drop normalized col - all are true so redundant\n",
    "artworks_df.drop(columns=['normalized'],inplace=True)"
   ]
  },
  {
   "cell_type": "code",
   "execution_count": 9,
   "metadata": {},
   "outputs": [],
   "source": [
    "# create new url col with normalized url\n",
    "artworks_df['image_url_normalized'] = artworks_df['image_url_template'].apply(lambda x: x.replace('{image_version}','normalized'))\n",
    "\n"
   ]
  },
  {
   "cell_type": "code",
   "execution_count": 10,
   "metadata": {},
   "outputs": [],
   "source": [
    "# load into BigQuery\n",
    "# get full table name\n",
    "full_table_name = f'{GCP_PROJECT}.{BQ_DATASET}.image_data'\n",
    "#source data\n",
    "source_data = artworks_df\n",
    "# instantiate client\n",
    "client = bigquery.Client(project=GCP_PROJECT)\n",
    "# truncate or append?\n",
    "write_mode = 'WRITE_TRUNCATE'\n",
    "# job_config\n",
    "job_config = bigquery.LoadJobConfig(write_disposition=write_mode)\n",
    "# job\n",
    "job = client.load_table_from_dataframe(source_data,full_table_name,job_config=job_config)\n",
    "# result\n",
    "result = job.result()"
   ]
  },
  {
   "cell_type": "code",
   "execution_count": null,
   "metadata": {},
   "outputs": [],
   "source": []
  }
 ],
 "metadata": {
  "kernelspec": {
   "display_name": "artsy-fartsci",
   "language": "python",
   "name": "python3"
  },
  "language_info": {
   "codemirror_mode": {
    "name": "ipython",
    "version": 3
   },
   "file_extension": ".py",
   "mimetype": "text/x-python",
   "name": "python",
   "nbconvert_exporter": "python",
   "pygments_lexer": "ipython3",
   "version": "3.10.6"
  },
  "orig_nbformat": 4
 },
 "nbformat": 4,
 "nbformat_minor": 2
}
