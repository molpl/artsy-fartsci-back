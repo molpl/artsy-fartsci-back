{
 "cells": [
  {
   "cell_type": "markdown",
   "id": "9403d541-4a94-43b7-a0bd-6009f0eb2954",
   "metadata": {},
   "source": [
    "Load all 10000 images, encode and save encoded images"
   ]
  },
  {
   "cell_type": "code",
   "execution_count": null,
   "id": "f8cfeabb-ac05-4536-ae9f-031698a63f63",
   "metadata": {},
   "outputs": [],
   "source": [
    "# avoid warnings\n",
    "import os\n",
    "os.environ['TF_CPP_MIN_LOG_LEVEL'] = '2'"
   ]
  },
  {
   "cell_type": "code",
   "execution_count": null,
   "id": "d955cd64-4756-4eea-868b-ab4ab597def6",
   "metadata": {},
   "outputs": [],
   "source": [
    "# imports\n",
    "import numpy as np\n",
    "from tensorflow.keras.layers import Input, Dense, Conv2D, MaxPooling2D, UpSampling2D\n",
    "from tensorflow.keras.models import Model\n",
    "from tensorflow.keras.preprocessing.image import ImageDataGenerator\n",
    "from tensorflow import convert_to_tensor\n",
    "from sklearn.metrics.pairwise import cosine_similarity\n",
    "import IPython.display as display\n",
    "from PIL import Image\n",
    "import matplotlib.pyplot as plt\n",
    "import math\n",
    "import time"
   ]
  },
  {
   "cell_type": "code",
   "execution_count": null,
   "id": "efd3cba9-420e-4d6e-9597-1f39b9b98d22",
   "metadata": {},
   "outputs": [],
   "source": [
    "# getall images\n",
    "img_path = os.listdir('/home/jupyter/images/all/art')"
   ]
  },
  {
   "cell_type": "code",
   "execution_count": null,
   "id": "2a044b0c-9ad6-4f4d-b430-57055218d5f6",
   "metadata": {},
   "outputs": [],
   "source": [
    "# sort key\n",
    "def sort_by_prefix(str):\n",
    "    return int(str.split('_')[0])"
   ]
  },
  {
   "cell_type": "code",
   "execution_count": null,
   "id": "be1197e5-3003-471e-a5b5-90d72a56d8a1",
   "metadata": {},
   "outputs": [],
   "source": [
    "# sort by index (in file name)\n",
    "img_path.sort(key=sort_by_prefix)"
   ]
  },
  {
   "cell_type": "code",
   "execution_count": null,
   "id": "9639f914-ab7a-4c7c-a3ee-e03b63322c24",
   "metadata": {},
   "outputs": [],
   "source": [
    "# initialize variables to batch load 10000 images\n",
    "img_tensors = []\n",
    "batch_size = 100\n",
    "total_size = len(img_path)\n",
    "n_runs = math.ceil(total_size/batch_size)`"
   ]
  },
  {
   "cell_type": "code",
   "execution_count": null,
   "id": "9d059dc6-e073-40f4-843d-05897fc6d573",
   "metadata": {
    "tags": []
   },
   "outputs": [],
   "source": [
    "# batch load images into a tensor list\n",
    "start_ix = 0\n",
    "end_ix = start_ix + batch_size\n",
    "for i in range(n_runs):\n",
    "    start_time = time.time()\n",
    "    for image_filename in img_path[start_ix:end_ix]:\n",
    "        img = Image.open(os.path.join('/home/jupyter/images/all/art', image_filename))\n",
    "        img = img.resize((224,224))\n",
    "        img_tensors.append(convert_to_tensor(img))\n",
    "    iterate_time = time.time()\n",
    "    print(f'{end_ix} images loaded in {iterate_time - start_time} s')\n",
    "    start_ix = end_ix\n",
    "    end_ix = min([start_ix + batch_size, total_size])"
   ]
  },
  {
   "cell_type": "code",
   "execution_count": null,
   "id": "0d06b298-76f9-42fb-a83c-464c43dfc249",
   "metadata": {},
   "outputs": [],
   "source": [
    "# convert to array\n",
    "x = np.array(img_tensors[:10000])"
   ]
  },
  {
   "cell_type": "code",
   "execution_count": null,
   "id": "bf400b77-96b1-4c5b-9013-9265e994325c",
   "metadata": {},
   "outputs": [],
   "source": [
    "# should be 10000 images, w/ shape 224,224,3\n",
    "x.shape"
   ]
  },
  {
   "cell_type": "code",
   "execution_count": null,
   "id": "10bd0f53-a805-46b6-8f5c-12d1f595fca7",
   "metadata": {},
   "outputs": [],
   "source": [
    "# Encoder\n",
    "input_img = Input(shape=(224, 224, 3))\n",
    "x = Conv2D(16, (3, 3), activation='relu', padding='same')(input_img)\n",
    "x = MaxPooling2D((2, 2), padding='same')(x)\n",
    "x = Conv2D(8, (3, 3), activation='relu', padding='same')(x)\n",
    "encoded = MaxPooling2D((2, 2), padding='same')(x)\n",
    "\n",
    "# Decoder\n",
    "x = Conv2D(8, (3, 3), activation='relu', padding='same')(encoded)\n",
    "x = UpSampling2D((2, 2))(x)\n",
    "x = Conv2D(16, (3, 3), activation='relu', padding='same')(x)\n",
    "x = UpSampling2D((2, 2))(x)\n",
    "decoded = Conv2D(3, (3, 3), activation='sigmoid', padding='same')(x)"
   ]
  },
  {
   "cell_type": "code",
   "execution_count": null,
   "id": "5355a74a-fa13-4125-a10b-6c95c400789c",
   "metadata": {},
   "outputs": [],
   "source": [
    "# Autoencoder\n",
    "autoencoder = Model(input_img, decoded)\n",
    "autoencoder.compile(optimizer='adam', loss='binary_crossentropy')"
   ]
  },
  {
   "cell_type": "code",
   "execution_count": null,
   "id": "e90ed3b0-35e7-403e-a897-0784639556b5",
   "metadata": {},
   "outputs": [],
   "source": [
    "# load model with pretrained weights\n",
    "autoencoder.load_weights('weights0039.hdf5')"
   ]
  },
  {
   "cell_type": "code",
   "execution_count": null,
   "id": "cc09fbc3-e9ab-451d-b6c1-6d19b64c24f3",
   "metadata": {},
   "outputs": [],
   "source": [
    "# Extracting image representation using the encoder\n",
    "encoder = Model(input_img, encoded)"
   ]
  },
  {
   "cell_type": "code",
   "execution_count": null,
   "id": "56dc5d43-b4de-4b76-805f-5bc7fae8213a",
   "metadata": {},
   "outputs": [],
   "source": [
    "# Encode all images\n",
    "encoded_images = encoder.predict(x)"
   ]
  },
  {
   "cell_type": "code",
   "execution_count": null,
   "id": "417933c4-5b77-43ab-a372-9c7a586b871d",
   "metadata": {},
   "outputs": [],
   "source": [
    "# save encoded images\n",
    "np.save('encoded_10000.npy',encoded_images)"
   ]
  },
  {
   "cell_type": "code",
   "execution_count": null,
   "id": "2dd687ba-42ae-47ef-957b-96ad0a6fa586",
   "metadata": {},
   "outputs": [],
   "source": [
    "# load encoded images\n",
    "encoded_images_loaded = np.load('encoded_10000.npy')"
   ]
  },
  {
   "cell_type": "code",
   "execution_count": null,
   "id": "a5274eac-c1c0-4029-a45c-83e26552a1c1",
   "metadata": {},
   "outputs": [],
   "source": [
    "#check shape against encoded images pre load\n",
    "encoded_images_loaded.shape"
   ]
  },
  {
   "cell_type": "code",
   "execution_count": null,
   "id": "265f16d5-4aaa-4241-aaf0-e77ed9cca823",
   "metadata": {},
   "outputs": [],
   "source": [
    "# function\n",
    "def get_top_5_similar(input_image):\n",
    "    input_representation = encoder.predict(input_image)\n",
    "    \n",
    "    # Compute cosine similarities between the input image and all images in the dataset\n",
    "    similarities = cosine_similarity(input_representation.reshape(1, -1), \n",
    "                                     encoded_images_loaded.reshape(len(encoded_images_loaded), -1))\n",
    "    \n",
    "    # Get indices of the top 5 similar images\n",
    "    top_5_indices = np.argsort(similarities[0])[-5:][::-1]  # -6 because the most similar one will be the image itself\n",
    "    #changed so it will get top 5 - we won't have the input image in the og dataset\n",
    "    return top_5_indices"
   ]
  },
  {
   "cell_type": "code",
   "execution_count": null,
   "id": "0a96fa1c-03a1-4082-a8fd-12f37f380593",
   "metadata": {},
   "outputs": [],
   "source": [
    "# Example of getting top 5 similar images to x_test[0]\n",
    "input_image = np.expand_dims(x[9999],axis=0)\n",
    "similar_indices = get_top_5_similar(input_image)\n",
    "print(f\"Indices of top 5 similar images: {similar_indices}\")"
   ]
  },
  {
   "cell_type": "code",
   "execution_count": null,
   "id": "a5171d75-bfae-431b-bac7-666024efe4fe",
   "metadata": {},
   "outputs": [],
   "source": [
    "# Display the input image and its 5 most similar images\n",
    "import matplotlib.pyplot as plt\n",
    "\n",
    "fig, ax = plt.subplots(1, 6, figsize=(15, 5))\n",
    "ax[0].imshow(input_image[0])\n",
    "ax[0].set_title(\"Input Image\")\n",
    "ax[0].axis('off')\n",
    "\n",
    "for i, index in enumerate(similar_indices, 1):\n",
    "    ax[i].imshow(x[index])\n",
    "    ax[i].set_title(f\"Similar {i}\")\n",
    "    ax[i].axis('off')\n",
    "\n",
    "plt.show()"
   ]
  }
 ],
 "metadata": {
  "environment": {
   "kernel": "python3",
   "name": "tf2-gpu.2-11.m110",
   "type": "gcloud",
   "uri": "gcr.io/deeplearning-platform-release/tf2-gpu.2-11:m110"
  },
  "kernelspec": {
   "display_name": "Python 3",
   "language": "python",
   "name": "python3"
  },
  "language_info": {
   "codemirror_mode": {
    "name": "ipython",
    "version": 3
   },
   "file_extension": ".py",
   "mimetype": "text/x-python",
   "name": "python",
   "nbconvert_exporter": "python",
   "pygments_lexer": "ipython3",
   "version": "3.10.12"
  }
 },
 "nbformat": 4,
 "nbformat_minor": 5
}
